{
 "cells": [
  {
   "cell_type": "code",
   "execution_count": 1,
   "id": "e54a9dae",
   "metadata": {},
   "outputs": [
    {
     "name": "stdout",
     "output_type": "stream",
     "text": [
      "Dataset generated successfully!\n"
     ]
    }
   ],
   "source": [
    "import random\n",
    "\n",
    "# List of prompts and corresponding responses\n",
    "prompts = [\n",
    "    \"Hi, I'd like to inquire about my account balance.\",\n",
    "    \"I noticed a transaction that I don't recognize. Can you help me investigate?\",\n",
    "    \"I'm interested in applying for a loan. Can you provide me with some information?\",\n",
    "    \"How do I reset my online banking password?\",\n",
    "    \"What are the interest rates for your savings accounts?\",\n",
    "    \"I'm having trouble accessing my mobile banking app. Can you assist?\",\n",
    "    \"Can I schedule an appointment with a financial advisor?\",\n",
    "    \"I need to transfer funds to my friend. Can you help?\",\n",
    "    \"Is there a fee for using ATMs outside of your network?\",\n",
    "    \"What is the process for opening a new checking account?\",\n",
    "    \"I'd like to report a lost or stolen debit card. What should I do?\",\n",
    "    \"How can I set up automatic bill payments?\",\n",
    "    \"Do you offer any discounts for students?\",\n",
    "    \"I'm experiencing issues with my credit card. Can you assist?\",\n",
    "    \"Can you provide me with my account statement for the past month?\",\n",
    "    \"What are the requirements for applying for a mortgage?\",\n",
    "    \"I received an email claiming to be from the bank asking for my personal information. Is it legitimate?\",\n",
    "    \"Can you explain the overdraft fees on my account?\",\n",
    "    \"I'd like to update my contact information. How can I do that?\",\n",
    "    \"What is the process for closing my account?\",\n",
    "]\n",
    "\n",
    "responses = [\n",
    "    \"Sure, could you please provide me with your account number?\",\n",
    "    \"Of course, please provide me with the details of the transaction, including the date and amount.\",\n",
    "    \"Great! Let me gather some basic information from you to start the application process.\",\n",
    "    \"You can reset your password through our website. I can guide you through the process if you'd like.\",\n",
    "    \"Our savings account interest rates vary depending on the type of account. I can provide you with more details if you'd like.\",\n",
    "    \"I'm sorry to hear that. Let me check the status of our mobile banking service.\",\n",
    "    \"Certainly! Please provide your availability, and I'll schedule an appointment for you.\",\n",
    "    \"Certainly! Please provide me with the recipient's account number and the amount you wish to transfer.\",\n",
    "    \"Yes, there may be fees for using ATMs outside of our network. I can provide you with more information if you'd like.\",\n",
    "    \"To open a new checking account, you'll need to visit one of our branches with valid identification.\",\n",
    "    \"I'm sorry to hear that. I'll block your card immediately and arrange for a replacement to be sent to you.\",\n",
    "    \"To set up automatic bill payments, you can log in to your online banking account and navigate to the bill payment section.\",\n",
    "    \"Yes, we offer special discounts and benefits for students. I can provide you with more information if you'd like.\",\n",
    "    \"I'm sorry for the inconvenience. Let me check the status of your credit card and see what I can do to help.\",\n",
    "    \"Certainly! I'll generate your account statement and send it to your registered email address.\",\n",
    "    \"To apply for a mortgage, you'll need to provide detailed information about your financial situation. I can assist you with the application process.\",\n",
    "    \"It's always important to verify the legitimacy of such emails. Please forward the email to our security team for investigation.\",\n",
    "    \"Overdraft fees are charged when you spend more money than you have available in your account. I can provide you with more information if you'd like.\",\n",
    "    \"You can update your contact information through your online banking account or by visiting one of our branches.\",\n",
    "    \"I'm sorry to hear that you want to close your account. I'll assist you with the process.\",\n",
    "]\n",
    "\n",
    "# Generate 1000 records\n",
    "dataset = []\n",
    "for _ in range(1000):\n",
    "    index = random.randint(0, len(prompts) - 1)\n",
    "    dataset.append((prompts[index], responses[index]))\n",
    "\n",
    "# Write dataset to a file\n",
    "with open(\"customer_experience_dataset.txt\", \"w\") as file:\n",
    "    for prompt, response in dataset:\n",
    "        file.write(f\"Customer: {prompt}\\nBankBot: {response}\\n\\n\")\n",
    "\n",
    "print(\"Dataset generated successfully!\")\n"
   ]
  },
  {
   "cell_type": "code",
   "execution_count": null,
   "id": "9545ed71",
   "metadata": {},
   "outputs": [],
   "source": []
  }
 ],
 "metadata": {
  "kernelspec": {
   "display_name": "Python 3 (ipykernel)",
   "language": "python",
   "name": "python3"
  },
  "language_info": {
   "codemirror_mode": {
    "name": "ipython",
    "version": 3
   },
   "file_extension": ".py",
   "mimetype": "text/x-python",
   "name": "python",
   "nbconvert_exporter": "python",
   "pygments_lexer": "ipython3",
   "version": "3.10.9"
  }
 },
 "nbformat": 4,
 "nbformat_minor": 5
}
